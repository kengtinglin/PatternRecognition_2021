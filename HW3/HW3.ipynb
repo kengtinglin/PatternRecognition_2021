{
 "cells": [
  {
   "cell_type": "markdown",
   "id": "friendly-tactics",
   "metadata": {},
   "source": [
    "# Load data"
   ]
  },
  {
   "cell_type": "code",
   "execution_count": 1,
   "id": "confirmed-authorization",
   "metadata": {},
   "outputs": [],
   "source": [
    "import numpy as np\n",
    "import pandas as pd\n",
    "import matplotlib.pyplot as plt\n",
    "import random\n",
    "from sklearn.datasets import load_breast_cancer\n",
    "from sklearn.metrics import accuracy_score\n"
   ]
  },
  {
   "cell_type": "code",
   "execution_count": 2,
   "id": "fitted-failing",
   "metadata": {},
   "outputs": [
    {
     "name": "stdout",
     "output_type": "stream",
     "text": [
      "['mean radius' 'mean texture' 'mean perimeter' 'mean area'\n",
      " 'mean smoothness' 'mean compactness' 'mean concavity'\n",
      " 'mean concave points' 'mean symmetry' 'mean fractal dimension'\n",
      " 'radius error' 'texture error' 'perimeter error' 'area error'\n",
      " 'smoothness error' 'compactness error' 'concavity error'\n",
      " 'concave points error' 'symmetry error' 'fractal dimension error'\n",
      " 'worst radius' 'worst texture' 'worst perimeter' 'worst area'\n",
      " 'worst smoothness' 'worst compactness' 'worst concavity'\n",
      " 'worst concave points' 'worst symmetry' 'worst fractal dimension']\n"
     ]
    }
   ],
   "source": [
    "data = load_breast_cancer()\n",
    "feature_names = data['feature_names']\n",
    "print(feature_names)\n"
   ]
  },
  {
   "cell_type": "code",
   "execution_count": 3,
   "id": "harmful-frame",
   "metadata": {},
   "outputs": [],
   "source": [
    "x_train = pd.read_csv(\"x_train.csv\")\n",
    "y_train = pd.read_csv(\"y_train.csv\")\n",
    "x_test = pd.read_csv(\"x_test.csv\")\n",
    "y_test = pd.read_csv(\"y_test.csv\")\n",
    "\n",
    "x_train_np = x_train.to_numpy()\n",
    "y_train_np = y_train.to_numpy()\n",
    "x_test_np = x_test.to_numpy()\n",
    "y_test_np = y_test.to_numpy()\n",
    "\n",
    "y_data_np = np.concatenate((y_train_np, y_test_np), axis=0)\n"
   ]
  },
  {
   "cell_type": "markdown",
   "id": "colonial-province",
   "metadata": {},
   "source": [
    "# Question 1"
   ]
  },
  {
   "cell_type": "code",
   "execution_count": 4,
   "id": "legal-relief",
   "metadata": {},
   "outputs": [
    {
     "name": "stdout",
     "output_type": "stream",
     "text": [
      "Gini of data is  0.46753006075469244\n",
      "Entropy of data is  0.9526351224018599\n"
     ]
    }
   ],
   "source": [
    "def gini(sequence):\n",
    "    sequence_0 = sequence[np.where(sequence == 0)]\n",
    "    sequence_1 = sequence[np.where(sequence == 1)]\n",
    "    p_0 = sequence_0.size / sequence.size\n",
    "    p_1 = sequence_1.size / sequence.size\n",
    "    return 1 - p_0 ** 2 - p_1 ** 2\n",
    "\n",
    "\n",
    "def entropy(sequence):\n",
    "    sequence_0 = sequence[np.where(sequence == 0)]\n",
    "    sequence_1 = sequence[np.where(sequence == 1)]\n",
    "    p_0 = sequence_0.size / sequence.size\n",
    "    p_1 = sequence_1.size / sequence.size\n",
    "    return -(p_0 * np.log2(p_0) + p_1 * np.log2(p_1))\n",
    "\n",
    "# I used all given datas to calculate Gini index and entropy\n",
    "print(\"Gini of data is \", gini(y_data_np))\n",
    "print(\"Entropy of data is \", entropy(y_data_np))\n"
   ]
  },
  {
   "cell_type": "markdown",
   "id": "freelance-hungary",
   "metadata": {},
   "source": [
    "# Question 2"
   ]
  },
  {
   "cell_type": "code",
   "execution_count": 5,
   "id": "bright-cursor",
   "metadata": {},
   "outputs": [],
   "source": [
    "# The node used in decision tree\n",
    "class Node:\n",
    "    def __init__(self, gini, entropy, num_samples,\n",
    "                 num_samples_per_class, predicted_class):\n",
    "        self.gini = gini\n",
    "        self.entropy = entropy\n",
    "        self.num_samples = num_samples\n",
    "        self.num_samples_per_class = num_samples_per_class\n",
    "        self.predicted_class = predicted_class\n",
    "        self.feature_index = 0\n",
    "        self.threshold = 0\n",
    "        self.left = None\n",
    "        self.right = None\n"
   ]
  },
  {
   "cell_type": "code",
   "execution_count": 6,
   "id": "induced-evening",
   "metadata": {},
   "outputs": [],
   "source": [
    "class DecisionTree():\n",
    "    def __init__(self, criterion='gini', max_depth=None):\n",
    "        self.max_depth = max_depth\n",
    "        self.criterion = criterion\n",
    "        self.feature_list = []\n",
    "\n",
    "    def fit(self, X, y):\n",
    "        self.classess = np.unique(y).size\n",
    "        self.features = X.shape[1]\n",
    "        self.tree = self.insert_tree(X, y)\n",
    "\n",
    "    def gini_(self, sequence):  # Calculate the Gini index\n",
    "        sequence_0 = sequence[np.where(sequence == 0)]\n",
    "        sequence_1 = sequence[np.where(sequence == 1)]\n",
    "        p_0 = sequence_0.size / sequence.size\n",
    "        p_1 = sequence_1.size / sequence.size\n",
    "        return 1 - p_0 ** 2 - p_1 ** 2\n",
    "\n",
    "    def entropy_(self, sequence):  # Calculate the entropy\n",
    "        sequence_0 = sequence[np.where(sequence == 0)]\n",
    "        sequence_1 = sequence[np.where(sequence == 1)]\n",
    "        p_0 = sequence_0.size / sequence.size\n",
    "        p_1 = sequence_1.size / sequence.size\n",
    "        return -(p_0 * np.log2(p_0) + p_1 * np.log2(p_1))\n",
    "\n",
    "    # Find the best split\n",
    "    def best_split(self, X, y, criterion):\n",
    "        if y.size <= 1:\n",
    "            return None, None\n",
    "\n",
    "        best_gini = self.gini_(y)\n",
    "        best_entropy = self.entropy_(y)\n",
    "        thrsh, feature_idx = None, None\n",
    "\n",
    "        for i in range(X.shape[1]):  # number of features\n",
    "            feature_sorted = sorted(np.unique(X[:, i]))  # sort unique value\n",
    "            for j in range(len(feature_sorted)-1):  # number of unique values\n",
    "                # I first found the number of unique values and sorted them,\n",
    "                # and then calcualted the mean between two values as threshold\n",
    "                midpoint = (feature_sorted[j] + feature_sorted[j+1]) / 2\n",
    "                # If the value is less than threshold,\n",
    "                # it will belong to the left\n",
    "                left_X = X[np.where(X[:, i] < midpoint), :]\n",
    "                left_y = y[np.where(X[:, i] < midpoint)]\n",
    "                # If the value is greater than threshold,\n",
    "                # it will belong to the left\n",
    "                right_X = X[np.where(X[:, i] > midpoint), :]\n",
    "                right_y = y[np.where(X[:, i] > midpoint)]\n",
    "                if (criterion == 'gini'):\n",
    "                    gini_left = self.gini_(left_y)\n",
    "                    gini_right = self.gini_(right_y)\n",
    "                    gini_temp = (gini_left * left_y.size +\n",
    "                                 gini_right * right_y.size) / y.size\n",
    "                    if (gini_temp < best_gini):\n",
    "                        best_gini = gini_temp\n",
    "                        thrsh = midpoint\n",
    "                        # The i-th column of x is the feature\n",
    "                        # used to split the node\n",
    "                        feature_idx = i\n",
    "                else:\n",
    "                    entropy_left = self.entropy_(left_y)\n",
    "                    entropy_right = self.entropy_(right_y)\n",
    "                    entropy_temp = (entropy_left * left_y.size +\n",
    "                                    entropy_right * right_y.size) / y.size\n",
    "                    if (entropy_temp < best_entropy):\n",
    "                        best_entropy = entropy_temp\n",
    "                        thrsh = midpoint\n",
    "                        feature_idx = i\n",
    "\n",
    "        return feature_idx, thrsh\n",
    "\n",
    "    # Build the decision tree through recursive method\n",
    "    def insert_tree(self, X, y, depth=0):\n",
    "        num_class_0 = y[np.where(y == 0)].size\n",
    "        num_class_1 = y[np.where(y == 1)].size\n",
    "        num_samples_per_class = np.array([num_class_0, num_class_1])\n",
    "        # If the number of class 2 > class 1, then predict class 2\n",
    "        predicted_class = np.argmax(num_samples_per_class)\n",
    "\n",
    "        node = Node(gini=self.gini_(y),\n",
    "                    entropy=self.entropy_(y),\n",
    "                    num_samples=y.size,\n",
    "                    num_samples_per_class=num_samples_per_class,\n",
    "                    predicted_class=predicted_class,\n",
    "                    )\n",
    "\n",
    "        if self.max_depth is not None:\n",
    "            if depth < self.max_depth:\n",
    "                feature, thrsh = self.best_split(X, y, self.criterion)\n",
    "                if feature is not None:\n",
    "                    feature_left = X[:, feature] < thrsh\n",
    "                    X_left, y_left = X[feature_left], y[feature_left]\n",
    "                    X_right, y_right = X[~feature_left], y[~feature_left]\n",
    "                    node.feature_index = feature\n",
    "                    self.feature_list.append(feature)\n",
    "                    node.threshold = thrsh\n",
    "                    node.left = self.insert_tree(X_left, y_left, depth + 1)\n",
    "                    node.right = self.insert_tree(X_right, y_right, depth + 1)\n",
    "        else:\n",
    "            feature, thrsh = self.best_split(X, y, self.criterion)\n",
    "            if feature is not None:\n",
    "                feature_left = X[:, feature] < thrsh\n",
    "                X_left, y_left = X[feature_left], y[feature_left]\n",
    "                X_right, y_right = X[~feature_left], y[~feature_left]\n",
    "                node.feature_index = feature\n",
    "                self.feature_list.append(feature)\n",
    "                node.threshold = thrsh\n",
    "                node.left = self.insert_tree(X_left, y_left, depth + 1)\n",
    "                node.right = self.insert_tree(X_right, y_right, depth + 1)\n",
    "\n",
    "        return node\n",
    "\n",
    "    # This function is used to record the feature used in every node\n",
    "    def feature_counter(self, X):\n",
    "        idx_list_counter = np.zeros(X.shape[1])\n",
    "        for i in range(len(self.feature_list)):\n",
    "            idx_list_counter[self.feature_list[i]] = \\\n",
    "                idx_list_counter[self.feature_list[i]] + 1\n",
    "\n",
    "        x = np.arange(len(idx_list_counter))\n",
    "        features = x_train.columns[np.where(idx_list_counter != 0)]\n",
    "        times = idx_list_counter[np.where(idx_list_counter != 0)]\n",
    "\n",
    "        plt.barh(features, times)\n",
    "        plt.ylabel('Features')\n",
    "        plt.xlabel('Counts')\n",
    "        plt.title(f'Feature importance\\n\\\n",
    "        criterion = {self.criterion}, max depth = {self.max_depth}')\n",
    "        plt.show()\n",
    "\n",
    "    # Predict the test data\n",
    "    def predict(self, test):\n",
    "        predicted = []\n",
    "        for data in test:\n",
    "            node = self.tree\n",
    "            while node.left:\n",
    "                if data[node.feature_index] <= node.threshold:\n",
    "                    node = node.left\n",
    "                else:\n",
    "                    node = node.right\n",
    "            predicted.append(node.predicted_class)\n",
    "        return predicted\n"
   ]
  },
  {
   "cell_type": "markdown",
   "id": "alpine-hurricane",
   "metadata": {},
   "source": [
    "## Question 2.1"
   ]
  },
  {
   "cell_type": "code",
   "execution_count": 7,
   "id": "breeding-engineering",
   "metadata": {
    "scrolled": false
   },
   "outputs": [
    {
     "name": "stderr",
     "output_type": "stream",
     "text": [
      "<ipython-input-6-9388fefeb545>:24: RuntimeWarning: divide by zero encountered in log2\n",
      "  return -(p_0 * np.log2(p_0) + p_1 * np.log2(p_1))\n",
      "<ipython-input-6-9388fefeb545>:24: RuntimeWarning: invalid value encountered in double_scalars\n",
      "  return -(p_0 * np.log2(p_0) + p_1 * np.log2(p_1))\n"
     ]
    },
    {
     "name": "stdout",
     "output_type": "stream",
     "text": [
      "criterion: gini, depth: 3, Accuracy = 0.9230769230769231\n",
      "criterion: gini, depth: 10, Accuracy = 0.916083916083916\n"
     ]
    }
   ],
   "source": [
    "clf_depth3 = DecisionTree(criterion='gini', max_depth=3)\n",
    "clf_depth3.fit(x_train_np, y_train_np)\n",
    "pred_gini_depth3 = np.array(clf_depth3.predict(x_test_np))\n",
    "acc_gini_depth3 = accuracy_score(pred_gini_depth3, y_test_np)\n",
    "print(f\"criterion: gini, depth: 3, \\\n",
    "Accuracy = {acc_gini_depth3}\")\n",
    "\n",
    "clf_depth10 = DecisionTree(criterion='gini', max_depth=10)\n",
    "clf_depth10.fit(x_train_np, y_train_np)\n",
    "pred_gini_depth10 = np.array(clf_depth10.predict(x_test_np))\n",
    "acc_gini_depth10 = accuracy_score(pred_gini_depth10, y_test_np)\n",
    "print(f\"criterion: gini, depth: 10, \\\n",
    "Accuracy = {acc_gini_depth10}\")\n"
   ]
  },
  {
   "cell_type": "markdown",
   "id": "trained-wichita",
   "metadata": {},
   "source": [
    "## Question 2.2"
   ]
  },
  {
   "cell_type": "code",
   "execution_count": 8,
   "id": "thermal-cambodia",
   "metadata": {},
   "outputs": [
    {
     "name": "stderr",
     "output_type": "stream",
     "text": [
      "<ipython-input-6-9388fefeb545>:24: RuntimeWarning: divide by zero encountered in log2\n",
      "  return -(p_0 * np.log2(p_0) + p_1 * np.log2(p_1))\n",
      "<ipython-input-6-9388fefeb545>:24: RuntimeWarning: invalid value encountered in double_scalars\n",
      "  return -(p_0 * np.log2(p_0) + p_1 * np.log2(p_1))\n"
     ]
    },
    {
     "name": "stdout",
     "output_type": "stream",
     "text": [
      "criterion is gini, depth: 3,Accuracy = 0.9230769230769231\n",
      "criterion is entropy, depth: 3,Accuracy = 0.9230769230769231\n"
     ]
    }
   ],
   "source": [
    "clf_depth3 = DecisionTree(criterion='gini', max_depth=3)\n",
    "clf_depth3.fit(x_train_np, y_train_np)\n",
    "pred_gini_depth3 = np.array(clf_depth3.predict(x_test_np))\n",
    "acc_gini_depth3 = accuracy_score(pred_gini_depth3, y_test_np)\n",
    "print(f\"criterion is gini, depth: 3,\\\n",
    "Accuracy = {acc_gini_depth3}\")\n",
    "\n",
    "clf_entropy = DecisionTree(criterion='entropy', max_depth=3)\n",
    "clf_entropy.fit(x_train_np, y_train_np)\n",
    "pred_entropy_depth3 = np.array(clf_entropy.predict(x_test_np))\n",
    "acc_entropy_depth3 = accuracy_score(pred_entropy_depth3, y_test_np)\n",
    "print(f\"criterion is entropy, depth: 3,\\\n",
    "Accuracy = {acc_entropy_depth3}\")\n"
   ]
  },
  {
   "cell_type": "markdown",
   "id": "found-regular",
   "metadata": {},
   "source": [
    "# Question 3"
   ]
  },
  {
   "cell_type": "code",
   "execution_count": 9,
   "id": "rolled-melissa",
   "metadata": {
    "scrolled": false
   },
   "outputs": [
    {
     "data": {
      "image/png": "[encoded data removed]",
      "text/plain": [
       "<Figure size 432x288 with 1 Axes>"
      ]
     },
     "metadata": {
      "needs_background": "light"
     },
     "output_type": "display_data"
    },
    {
     "data": {
      "image/png": "[encoded data removed]",
      "text/plain": [
       "<Figure size 432x288 with 1 Axes>"
      ]
     },
     "metadata": {
      "needs_background": "light"
     },
     "output_type": "display_data"
    },
    {
     "data": {
      "image/png": "[encoded data removed]",
      "text/plain": [
       "<Figure size 432x288 with 1 Axes>"
      ]
     },
     "metadata": {
      "needs_background": "light"
     },
     "output_type": "display_data"
    }
   ],
   "source": [
    "clf_depth3.feature_counter(x_train_np)\n",
    "clf_depth10.feature_counter(x_train_np)\n",
    "clf_entropy.feature_counter(x_train_np)\n",
    "# The feature which is not in the figure is not used\n"
   ]
  },
  {
   "cell_type": "markdown",
   "id": "artificial-shaft",
   "metadata": {},
   "source": [
    "# Question 4"
   ]
  },
  {
   "cell_type": "code",
   "execution_count": 10,
   "id": "jewish-yahoo",
   "metadata": {},
   "outputs": [],
   "source": [
    "class RandomForest():\n",
    "    def __init__(self, n_estimators, max_features,\n",
    "                 bootstrap=True, criterion='gini', max_depth=None):\n",
    "        self.n_estimators = n_estimators\n",
    "        # If the max_features is not integer\n",
    "        # I round it\n",
    "        self.max_features = round(max_features)\n",
    "        self.bootstrap = bootstrap\n",
    "        self.criterion = criterion\n",
    "        self.max_depth = max_depth\n",
    "        self.tree_list = []\n",
    "\n",
    "    # Build the random forest\n",
    "    def build(self, X, y):\n",
    "        # If bootstrap is true, the data may be reused\n",
    "        if self.bootstrap is True:\n",
    "            for b in range(self.n_estimators):\n",
    "                # I random chose max_features features every time\n",
    "                X_ = X[:, random.sample(range(X.shape[1]),\n",
    "                                        self.max_features)]\n",
    "                # I random chose 120 datas to build decision tree\n",
    "                random_choose = random.sample(range(X.shape[0]), 120)\n",
    "                X_ = X[random_choose, :]\n",
    "                y_ = y[random_choose]\n",
    "                clf = DecisionTree(self.criterion, self.max_depth)\n",
    "                clf.fit(X_, y_)\n",
    "                self.tree_list.append(clf)  # Record the decision tree\n",
    "        else:  # If bootstrap is not true, the data will not be reused\n",
    "            random_train_list = np.arange(X.shape[1])\n",
    "            random.shuffle(random_train_list)\n",
    "            # I divide datas into n_estimators parts\n",
    "            n = round(X.shape[0] / self.n_estimators)\n",
    "            for b in range(self.n_estimators - 1):\n",
    "                # I random chose max_features feature every time\n",
    "                X_ = X[:, random.sample(range(X.shape[1]),\n",
    "                                        self.max_features)]\n",
    "                X_ = X[b*n:(b+1)*n, :]\n",
    "                y_ = y[b*n:(b+1)*n]\n",
    "                clf = DecisionTree(self.criterion, self.max_depth)\n",
    "                clf.fit(X_, y_)\n",
    "                self.tree_list.append(clf)\n",
    "            X_ = X[(self.n_estimators-1)*n:, :]\n",
    "            y_ = y[(self.n_estimators-1)*n:]\n",
    "            clf = DecisionTree(self.criterion, self.max_depth)\n",
    "            clf.fit(X_, y_)\n",
    "            self.tree_list.append(clf)  # Record the decision tree\n",
    "\n",
    "    def predict(self, test):\n",
    "        result_vote = np.zeros(test.shape[0])\n",
    "        for b in range(self.n_estimators):\n",
    "            predict = self.tree_list[b].predict(test)\n",
    "            result_vote = result_vote + np.array(predict)\n",
    "        # Calculate the probability of class\n",
    "        # Because there are two classes for in this assignment\n",
    "        # If probability >= 0.5, it belongs to class 1\n",
    "        # else it belongs to class 0\n",
    "        result_vote = result_vote / self.n_estimators\n",
    "        for i in range(test.shape[0]):\n",
    "            if result_vote[i] < 0.5:\n",
    "                result_vote[i] = 0\n",
    "            else:\n",
    "                result_vote[i] = 1\n",
    "        return result_vote\n"
   ]
  },
  {
   "cell_type": "markdown",
   "id": "forward-momentum",
   "metadata": {},
   "source": [
    "## Question 4.1"
   ]
  },
  {
   "cell_type": "code",
   "execution_count": 11,
   "id": "israeli-likelihood",
   "metadata": {
    "scrolled": true
   },
   "outputs": [
    {
     "name": "stderr",
     "output_type": "stream",
     "text": [
      "<ipython-input-6-9388fefeb545>:24: RuntimeWarning: divide by zero encountered in log2\n",
      "  return -(p_0 * np.log2(p_0) + p_1 * np.log2(p_1))\n",
      "<ipython-input-6-9388fefeb545>:24: RuntimeWarning: invalid value encountered in double_scalars\n",
      "  return -(p_0 * np.log2(p_0) + p_1 * np.log2(p_1))\n"
     ]
    },
    {
     "name": "stdout",
     "output_type": "stream",
     "text": [
      "criterion: gini, estimators = 10, bootstrap = True.\n",
      "Accuracy of test-set = 0.9370629370629371\n",
      "criterion: gini, estimators = 10, bootstrap = False.\n",
      "Accuracy of test-set = 0.9300699300699301\n",
      "criterion: gini, estimators = 100, bootstrap = True.\n",
      "Accuracy of test-set = 0.951048951048951\n"
     ]
    }
   ],
   "source": [
    "clf_10tree = RandomForest(n_estimators=10,\n",
    "                          max_features=np.sqrt(x_train.shape[1]))\n",
    "clf_10tree.build(x_train_np, y_train_np)\n",
    "predict_10tree = clf_10tree.predict(x_test_np)\n",
    "acc_10tree = accuracy_score(predict_10tree, y_test_np)\n",
    "print(f\"criterion: gini, estimators = 10, bootstrap = True.\\n\\\n",
    "Accuracy of test-set = {acc_10tree}\")\n",
    "\n",
    "clf_10tree = RandomForest(n_estimators=10,\n",
    "                          max_features=np.sqrt(x_train.shape[1]), bootstrap=True, criterion='gini', max_depth=None)\n",
    "clf_10tree.build(x_train_np, y_train_np)\n",
    "predict_10tree = clf_10tree.predict(x_test_np)\n",
    "acc_10tree = accuracy_score(predict_10tree, y_test_np)\n",
    "print(f\"criterion: gini, estimators = 10, bootstrap = False.\\n\\\n",
    "Accuracy of test-set = {acc_10tree}\")\n",
    "\n",
    "# This case may spend a little much time\n",
    "clf_100tree = RandomForest(n_estimators=100,\n",
    "                           max_features=np.sqrt(x_train.shape[1]))\n",
    "clf_100tree.build(x_train_np, y_train_np)\n",
    "predict_100tree = clf_100tree.predict(x_test_np)\n",
    "acc_100tree = accuracy_score(predict_100tree, y_test_np)\n",
    "print(f\"criterion: gini, estimators = 100, bootstrap = True.\\n\\\n",
    "Accuracy of test-set = {acc_100tree}\")\n",
    "\n",
    "# P.S. It may spend some time calculating when n_estimators is large.\n"
   ]
  },
  {
   "cell_type": "markdown",
   "id": "informative-bangkok",
   "metadata": {},
   "source": [
    "## Question 4.2"
   ]
  },
  {
   "cell_type": "code",
   "execution_count": 12,
   "id": "innovative-anxiety",
   "metadata": {},
   "outputs": [
    {
     "name": "stderr",
     "output_type": "stream",
     "text": [
      "<ipython-input-6-9388fefeb545>:24: RuntimeWarning: divide by zero encountered in log2\n",
      "  return -(p_0 * np.log2(p_0) + p_1 * np.log2(p_1))\n",
      "<ipython-input-6-9388fefeb545>:24: RuntimeWarning: invalid value encountered in double_scalars\n",
      "  return -(p_0 * np.log2(p_0) + p_1 * np.log2(p_1))\n"
     ]
    },
    {
     "name": "stdout",
     "output_type": "stream",
     "text": [
      "criterion: gini, estimators = 10 with random features.\n",
      "Accuracy of test-set = 0.951048951048951\n",
      "criterion: gini, estimators = 10 with all features.\n",
      "Accuracy of test-set = 0.972027972027972\n"
     ]
    }
   ],
   "source": [
    "clf_random_features = RandomForest(n_estimators=10,\n",
    "                                   max_features=np.sqrt(x_train.shape[1]))\n",
    "clf_random_features.build(x_train_np, y_train_np)\n",
    "predict_random_features = clf_random_features.predict(x_test_np)\n",
    "acc_random_features = accuracy_score(predict_random_features, y_test_np)\n",
    "print(f\"criterion: gini, estimators = 10 with random features.\\n\\\n",
    "Accuracy of test-set = {acc_random_features}\")\n",
    "\n",
    "clf_all_features = RandomForest(n_estimators=10, max_features=x_train.shape[1])\n",
    "clf_all_features.build(x_train_np, y_train_np)\n",
    "predict_all_features = clf_all_features.predict(x_test_np)\n",
    "acc_all_features = accuracy_score(predict_all_features, y_test_np)\n",
    "print(f\"criterion: gini, estimators = 10 with all features.\\n\\\n",
    "Accuracy of test-set = {acc_all_features}\")\n"
   ]
  }
 ],
 "metadata": {
  "kernelspec": {
   "display_name": "python3.8.5",
   "language": "python",
   "name": "python3.8.5"
  },
  "language_info": {
   "codemirror_mode": {
    "name": "ipython",
    "version": 3
   },
   "file_extension": ".py",
   "mimetype": "text/x-python",
   "name": "python",
   "nbconvert_exporter": "python",
   "pygments_lexer": "ipython3",
   "version": "3.8.5"
  }
 },
 "nbformat": 4,
 "nbformat_minor": 5
}
